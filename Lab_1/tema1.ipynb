{
 "cells": [
  {
   "cell_type": "markdown",
   "metadata": {},
   "source": [
    "# Sisteme Expert si Helpdesks"
   ]
  },
  {
   "cell_type": "markdown",
   "metadata": {},
   "source": [
    "### Baza de cunostinte"
   ]
  },
  {
   "cell_type": "markdown",
   "metadata": {},
   "source": [
    "Optionale:\n",
    "- Pachetul 1:\n",
    "    - Knowledge Based Systems -> ai\n",
    "    - Programming techniques on mobile platforms -> programming\n",
    "    - Computational Aspects in the Number Theory -> maths\n",
    "    - Game Design -> games\n",
    "    - Advanced topics in .NET -> programming ?\n",
    "- Pachetul 2:\n",
    "    - Psychology of the Professional Communication in IT industry\n",
    "    - Cloud Computing\n",
    "    - Human-Computer Interaction\n",
    "    - Social Media Networks Analysis\n",
    "- Pachetul 3:\n",
    "    -  Petri Nets and Applications\n",
    "    -  Smart Cards and Applications\n",
    "    -  Automotive specific software engineering\n",
    "    -  Introduction to Internet of Things\n",
    "    -  Natural language processing techniques\n",
    "    \n",
    "Fiecare Optional va avea:\n",
    "- nivel de dificultate, clasic cu: easy, medium, hard\n",
    "- tip de materie: Theoretical, Practical, Mixed(T+P)\n",
    "- main interest: AI, Programming, Maths, Games, Communication, Design, Data Analysis, Engineering, Security"
   ]
  },
  {
   "cell_type": "code",
   "execution_count": 4,
   "metadata": {},
   "outputs": [],
   "source": [
    "packages = {\n",
    "    \"Pachetul 1\": [\n",
    "        {\"name\": \"Knowledge-Based Systems\", \"difficulty\": \"Medium\", \"type\": \"Theoretical\", \"interest\": \"AI\"},\n",
    "        {\"name\": \"Programming Techniques on Mobile Platforms\", \"difficulty\": \"Hard\", \"type\": \"Practical\", \"interest\": \"Programming\"},\n",
    "        {\"name\": \"Computational Aspects in the Number Theory\", \"difficulty\": \"Hard\", \"type\": \"Theoretical\", \"interest\": \"Maths\"},\n",
    "        {\"name\": \"Game Design\", \"difficulty\": \"Medium\", \"type\": \"Mixed\", \"interest\": \"Games\"},\n",
    "        {\"name\": \"Advanced Topics in .NET\", \"difficulty\": \"Medium\", \"type\": \"Practical\", \"interest\": \"Programming\"}\n",
    "    ],\n",
    "    \"Pachetul 2\": [\n",
    "        {\"name\": \"Psychology of the Professional Communication in IT industry\", \"difficulty\": \"Easy\", \"type\": \"Theoretical\", \"interest\": \"Communication\"},\n",
    "        {\"name\": \"Cloud Computing\", \"difficulty\": \"Hard\", \"type\": \"Practical\", \"interest\": \"Programming\"},\n",
    "        {\"name\": \"Human-Computer Interaction\", \"difficulty\": \"Medium\", \"type\": \"Mixed\", \"interest\": \"Design\"},\n",
    "        {\"name\": \"Social Media Networks Analysis\", \"difficulty\": \"Medium\", \"type\": \"Theoretical\", \"interest\": \"Data Analysis\"}\n",
    "    ],\n",
    "    \"Pachetul 3\": [\n",
    "        {\"name\": \"Petri Nets and Applications\", \"difficulty\": \"Hard\", \"type\": \"Theoretical\", \"interest\": \"Maths\"},\n",
    "        {\"name\": \"Smart Cards and Applications\", \"difficulty\": \"Medium\", \"type\": \"Practical\", \"interest\": \"Security\"},\n",
    "        {\"name\": \"Automotive Specific Software Engineering\", \"difficulty\": \"Hard\", \"type\": \"Practical\", \"interest\": \"Engineering\"},\n",
    "        {\"name\": \"Introduction to Internet of Things\", \"difficulty\": \"Medium\", \"type\": \"Mixed\", \"interest\": \"Technology\"},\n",
    "        {\"name\": \"Natural Language Processing Techniques\", \"difficulty\": \"Medium\", \"type\": \"Theoretical\", \"interest\": \"AI\"}\n",
    "    ]\n",
    "}"
   ]
  },
  {
   "cell_type": "markdown",
   "metadata": {},
   "source": [
    "### Mecanismul de decizie"
   ]
  },
  {
   "cell_type": "code",
   "execution_count": 6,
   "metadata": {},
   "outputs": [],
   "source": [
    "def calculate_scores(package, difficulty, type_of_course, interest):\n",
    "    scores = {}\n",
    "    for option in package:\n",
    "        score = 0\n",
    "        if option[\"difficulty\"] == difficulty:\n",
    "            score += 2\n",
    "        if option[\"type\"] == type_of_course:\n",
    "            score += 2\n",
    "        if option[\"interest\"] == interest:\n",
    "            score += 3\n",
    "        scores[option[\"name\"]] = score\n",
    "    return scores"
   ]
  },
  {
   "cell_type": "code",
   "execution_count": 16,
   "metadata": {},
   "outputs": [
    {
     "name": "stdout",
     "output_type": "stream",
     "text": [
      "{'Knowledge-Based Systems': 0, 'Programming Techniques on Mobile Platforms': 0, 'Computational Aspects in the Number Theory': 0, 'Game Design': 0, 'Advanced Topics in .NET': 0}\n"
     ]
    }
   ],
   "source": [
    "print(calculate_scores(packages['Pachetul 1'], 'easy', 'mixed', 'ai'))"
   ]
  },
  {
   "cell_type": "code",
   "execution_count": 17,
   "metadata": {},
   "outputs": [],
   "source": [
    "def select_best_option(scores):\n",
    "    best_option = max(scores.items(), key=lambda item: item[1])\n",
    "    return best_option[0]\n"
   ]
  },
  {
   "cell_type": "markdown",
   "metadata": {},
   "source": [
    "### Interactiunea cu utilizatorul "
   ]
  },
  {
   "cell_type": "code",
   "execution_count": 5,
   "metadata": {},
   "outputs": [],
   "source": [
    "def ask_user():\n",
    "    diff = input(\"Ce nivel de dificultate sa fie optionalul ? (easy/medium/hard): \").strip()\n",
    "    course_type = input(\"Ce tip preferi ? (Theoretical/Practical/Mixed): \").strip()\n",
    "    main_interest = input(\"Din ce arie sa fie ? (AI/Programming/Maths/Games/Communication/Data Analysis/Design/Engineering/Technology/Security): \").strip()\n",
    "    return diff.capitalize(), course_type.capitalize(), main_interest.capitalize()"
   ]
  },
  {
   "cell_type": "code",
   "execution_count": 19,
   "metadata": {},
   "outputs": [
    {
     "name": "stdout",
     "output_type": "stream",
     "text": [
      "➡️ Pachetul 1: Game Design\n",
      "➡️ Pachetul 2: Human-Computer Interaction\n",
      "➡️ Pachetul 3: Introduction to Internet of Things\n"
     ]
    }
   ],
   "source": [
    "diff, course_type, interest = ask_user()\n",
    "\n",
    "results = dict()\n",
    "for package_name, package in packages.items():\n",
    "    scores = calculate_scores(package, diff, course_type, interest)\n",
    "    best_option = select_best_option(scores)\n",
    "    results[package_name] = best_option\n",
    "\n",
    "for package, option in results.items():\n",
    "    print(f\"➡️ {package}: {option}\")"
   ]
  }
 ],
 "metadata": {
  "kernelspec": {
   "display_name": "venv",
   "language": "python",
   "name": "python3"
  },
  "language_info": {
   "codemirror_mode": {
    "name": "ipython",
    "version": 3
   },
   "file_extension": ".py",
   "mimetype": "text/x-python",
   "name": "python",
   "nbconvert_exporter": "python",
   "pygments_lexer": "ipython3",
   "version": "3.12.6"
  },
  "orig_nbformat": 4
 },
 "nbformat": 4,
 "nbformat_minor": 2
}
