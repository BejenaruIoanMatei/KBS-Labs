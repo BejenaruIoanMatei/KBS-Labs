{
 "cells": [
  {
   "cell_type": "markdown",
   "metadata": {},
   "source": [
    "# Sisteme Expert si Helpdesks"
   ]
  },
  {
   "cell_type": "markdown",
   "metadata": {},
   "source": [
    "### Baza de cunostinte"
   ]
  },
  {
   "cell_type": "markdown",
   "metadata": {},
   "source": [
    "Optionale:\n",
    "- Pachetul 1:\n",
    "    - Knowledge Based Systems -> ai\n",
    "    - Programming techniques on mobile platforms -> programming\n",
    "    - Computational Aspects in the Number Theory -> maths\n",
    "    - Game Design -> games\n",
    "    - Advanced topics in .NET -> programming ?\n",
    "- Pachetul 2:\n",
    "    - Psychology of the Professional Communication in IT industry\n",
    "    - Cloud Computing\n",
    "    - Human-Computer Interaction\n",
    "    - Social Media Networks Analysis\n",
    "- Pachetul 3:\n",
    "    -  Petri Nets and Applications\n",
    "    -  Smart Cards and Applications\n",
    "    -  Automotive specific software engineering\n",
    "    -  Introduction to Internet of Things\n",
    "    -  Natural language processing techniques\n",
    "    \n",
    "Fiecare Optional va avea:\n",
    "- nivel de dificultate, clasic cu: easy, medium, hard\n",
    "- tip de materie: Theoretical, Practical, Mixed(T+P)\n",
    "- main interest: AI, Programming, Maths, Games "
   ]
  },
  {
   "cell_type": "code",
   "execution_count": 2,
   "metadata": {},
   "outputs": [],
   "source": [
    "options = [\n",
    "    {\"name\": \"Knowledge-Based Systems\", \"difficulty\": \"Medium\", \"type\": \"Mixed\", \"interest\": \"AI\"},\n",
    "    {\"name\": \"Programming Techniques on Mobile Platforms\", \"difficulty\": \"Hard\", \"type\": \"Practical\", \"interest\": \"Programming\"},\n",
    "    {\"name\": \"Computational Aspects in the Number Theory\", \"difficulty\": \"Hard\", \"type\": \"Theoretical\", \"interest\": \"Maths\"},\n",
    "    {\"name\": \"Game Design\", \"difficulty\": \"Easy\", \"type\": \"Mixed\", \"interest\": \"Games\"},\n",
    "    {\"name\": \"Advanced Topics in .NET\", \"difficulty\": \"Medium\", \"type\": \"Practical\", \"interest\": \"Programming\"}\n",
    "]"
   ]
  },
  {
   "cell_type": "markdown",
   "metadata": {},
   "source": [
    "### Interactiunea cu utilizatorul "
   ]
  },
  {
   "cell_type": "code",
   "execution_count": 3,
   "metadata": {},
   "outputs": [],
   "source": [
    "def ask_user():\n",
    "    diff = input(\"Ce nivel de dificultate sa fie optionalul ? (easy/medium/hard): \").strip()\n",
    "    course_type = input(\"Ce tip preferi ? (Theoretical/Practical/Mixed): \").strip()\n",
    "    main_interest = input(\"Din ce arie sa fie ?(AI/Programming/Maths/Games)\").strip()\n",
    "    return diff.capitalize(), course_type.capitalize(), main_interest.capitalize()"
   ]
  },
  {
   "cell_type": "code",
   "execution_count": null,
   "metadata": {},
   "outputs": [],
   "source": [
    "def response_to_user(best_recomm):\n",
    "    print(f\"Cel mai potrivit optional pentru tine este: {best_recomm}\")  "
   ]
  }
 ],
 "metadata": {
  "kernelspec": {
   "display_name": "venv",
   "language": "python",
   "name": "python3"
  },
  "language_info": {
   "codemirror_mode": {
    "name": "ipython",
    "version": 3
   },
   "file_extension": ".py",
   "mimetype": "text/x-python",
   "name": "python",
   "nbconvert_exporter": "python",
   "pygments_lexer": "ipython3",
   "version": "3.12.6"
  },
  "orig_nbformat": 4
 },
 "nbformat": 4,
 "nbformat_minor": 2
}
